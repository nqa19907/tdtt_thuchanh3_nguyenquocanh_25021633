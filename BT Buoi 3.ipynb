{
  "nbformat": 4,
  "nbformat_minor": 0,
  "metadata": {
    "colab": {
      "provenance": []
    },
    "kernelspec": {
      "name": "python3",
      "display_name": "Python 3"
    },
    "language_info": {
      "name": "python"
    }
  },
  "cells": [
    {
      "cell_type": "code",
      "source": [
        "n = input('nhap so nguyen n: ')\n",
        "dao = ''\n",
        "for i in range(0,len(n)):\n",
        "    dao = dao + n[len(n)-1-i]\n",
        "print(dao)"
      ],
      "metadata": {
        "id": "FQoybbcZqgwm"
      },
      "execution_count": null,
      "outputs": []
    },
    {
      "cell_type": "code",
      "source": [
        "a,b = map(int,input().split())\n",
        "a = a^b\n",
        "b= a^b\n",
        "a = a^b\n",
        "print(a,b)\n"
      ],
      "metadata": {
        "id": "guo5pRxR_oo9"
      },
      "execution_count": null,
      "outputs": []
    },
    {
      "cell_type": "code",
      "source": [
        "n = int(input('nhap 1 so nguyen: '))\n",
        "if(n&(n-1)==0):\n",
        "    print('True')\n",
        "else: print(\"False\")"
      ],
      "metadata": {
        "id": "RfN7CJhsA7JU"
      },
      "execution_count": null,
      "outputs": []
    },
    {
      "cell_type": "code",
      "source": [
        "a,b = map(int,input().split())\n",
        "print(a//b)"
      ],
      "metadata": {
        "id": "SjnX6a7IA9fC"
      },
      "execution_count": null,
      "outputs": []
    },
    {
      "cell_type": "code",
      "source": [
        "import math\n",
        "a,b = map(int,input().split())\n",
        "print(math.ceil(a/b))"
      ],
      "metadata": {
        "id": "CmW_uNO1BB2r"
      },
      "execution_count": null,
      "outputs": []
    },
    {
      "cell_type": "code",
      "source": [
        "x = int(input())\n",
        "if(x%2==0):\n",
        "    print('Even')\n",
        "else:\n",
        "    print('Odd')"
      ],
      "metadata": {
        "id": "N_ZhZMtmBEDf"
      },
      "execution_count": null,
      "outputs": []
    },
    {
      "cell_type": "code",
      "source": [
        "a = int(input())\n",
        "b = int(input())\n",
        "if(a<0 and b<0):\n",
        "    print('Yes')\n",
        "else:\n",
        "    print('No')"
      ],
      "metadata": {
        "id": "H-h2am5LBGl3"
      },
      "execution_count": null,
      "outputs": []
    },
    {
      "cell_type": "code",
      "source": [
        "a = input()\n",
        "b = input()\n",
        "if(len(a)>len(b)):\n",
        "    print('True')\n",
        "else:\n",
        "    print('False')"
      ],
      "metadata": {
        "id": "V-pauOFKBKjs"
      },
      "execution_count": null,
      "outputs": []
    },
    {
      "cell_type": "code",
      "source": [
        "a = int(input())\n",
        "b = int(input())\n",
        "c = int(input())\n",
        "if(a+b>c and a+c>b and b+c>a):\n",
        "    print('Yes')\n",
        "else:\n",
        "    print('No')"
      ],
      "metadata": {
        "id": "OdIKzeW3BMVu"
      },
      "execution_count": null,
      "outputs": []
    },
    {
      "cell_type": "code",
      "source": [
        "b = int(input())\n",
        "c = int(input())\n",
        "d = int(input())\n",
        "e = int(input())\n",
        "a = [b,c,d,e]\n",
        "max = float('-inf')\n",
        "for i in a:\n",
        "    int(i)\n",
        "    if i>max:\n",
        "        max = i\n",
        "print(max)\n"
      ],
      "metadata": {
        "id": "Tj2BhKNeBO3c"
      },
      "execution_count": null,
      "outputs": []
    },
    {
      "cell_type": "code",
      "source": [
        "a,b,c = map(int,input().split())\n",
        "if(a+b>c or a+c>b or c+b>a):\n",
        "    if(a==b==c):\n",
        "        print('Tam giác đều')\n",
        "    elif(a==b!=c or a==c!=b or c==b!=a ):\n",
        "        print('Tam giác cân')\n",
        "    else:\n",
        "        print('Tam giác thường')\n",
        "else: print('Không phải tam giác')"
      ],
      "metadata": {
        "id": "mXBKS0jvBR7-"
      },
      "execution_count": null,
      "outputs": []
    },
    {
      "cell_type": "code",
      "source": [
        "n = int(input())\n",
        "if((n%4==0 and n%100!=0) or (n%400==0)):\n",
        "    print('Yes')\n",
        "else:\n",
        "    print('No')"
      ],
      "metadata": {
        "id": "FhP5f80wBUEB"
      },
      "execution_count": null,
      "outputs": []
    },
    {
      "cell_type": "code",
      "source": [
        "dien = int(input())\n",
        "tien = 0\n",
        "gia = [\n",
        "    (50,1500),\n",
        "    (50,2000),\n",
        "    (float('inf'), 3000)\n",
        "]\n",
        "for dinhmuc,giadien in gia:\n",
        "    dientinh = min(dinhmuc,dien)\n",
        "    tien = tien + dientinh*giadien\n",
        "    dien = dien - dientinh\n",
        "print(tien)\n",
        ""
      ],
      "metadata": {
        "id": "5Ge-yD2TBYof"
      },
      "execution_count": null,
      "outputs": []
    },
    {
      "cell_type": "code",
      "source": [
        "a = float(input())\n",
        "b = float(input())\n",
        "if(a==0 and b!=0):\n",
        "    print('vo nghiem')\n",
        "elif(b==0):\n",
        "    print('vo so nghiem')\n",
        "else:\n",
        "    print(f'{-b/a:.2f}')"
      ],
      "metadata": {
        "id": "8W_cXmWaBbD_"
      },
      "execution_count": null,
      "outputs": []
    },
    {
      "cell_type": "code",
      "source": [
        "n = float(input())\n",
        "if(8<=n<=10):\n",
        "    print('Giỏi')\n",
        "elif(6<=n<8):\n",
        "    print('Khá')\n",
        "elif(5<=n<6):\n",
        "    print('Trung bình')\n",
        "elif(n<5):\n",
        "    print('Yếu')"
      ],
      "metadata": {
        "id": "S7MTocS-BdIC"
      },
      "execution_count": null,
      "outputs": []
    },
    {
      "cell_type": "code",
      "source": [
        "n = float(input())\n",
        "def round(n):\n",
        "    if(n>0):\n",
        "        if(n - int(n)>=0.5):\n",
        "            return int(n)+1\n",
        "        else:\n",
        "            return int(n)\n",
        "    else:\n",
        "        if(n - int(n)<=-0.5):\n",
        "            return int(n)-1\n",
        "        else:\n",
        "            return int(n)\n",
        "if(n%1!=0):\n",
        "    if(n>0):\n",
        "        print( int(n)+1,int(n),round(n))\n",
        "    elif(n<0):\n",
        "        print(int(n),int(n)-1,round(n))\n",
        "else:\n",
        "    print(int(n),int(n),int(n))"
      ],
      "metadata": {
        "id": "ID1dtNzABe8d"
      },
      "execution_count": null,
      "outputs": []
    }
  ]
}