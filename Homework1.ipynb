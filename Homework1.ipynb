{
  "nbformat": 4,
  "nbformat_minor": 0,
  "metadata": {
    "colab": {
      "provenance": []
    },
    "kernelspec": {
      "name": "python3",
      "display_name": "Python 3"
    },
    "language_info": {
      "name": "python"
    }
  },
  "cells": [
    {
      "cell_type": "code",
      "execution_count": null,
      "metadata": {
        "id": "6mQ4pHSCIQGa"
      },
      "outputs": [],
      "source": [
        "n = int(input('nhap 1 so nguyen: '))\n",
        "print(2*n)"
      ]
    },
    {
      "cell_type": "code",
      "source": [
        "a,b = map(int,input('nhap rong a, dai b: ').split())\n",
        "hinhtron = 3.14*a**a/4\n",
        "print('dien tich con lai la: ',a*b-hinhtron)\n"
      ],
      "metadata": {
        "id": "XtoLx9yzIZAr"
      },
      "execution_count": null,
      "outputs": []
    },
    {
      "cell_type": "code",
      "source": [
        "x = input('nhap 1 chu cai: ')\n",
        "if 'a'<=x<='z':\n",
        "    x = chr(ord(x)-32)\n",
        "    print(x)\n",
        "elif 'A'<=x<='Z':\n",
        "    x = chr(ord(x)+32)\n",
        "    print(x)\n",
        "else: print('x khong phai chu cai')"
      ],
      "metadata": {
        "id": "UTDEdfPSIbnw"
      },
      "execution_count": null,
      "outputs": []
    },
    {
      "cell_type": "code",
      "source": [
        "x = input('nhap 1 ki tu: ')\n",
        "if 'a'<=x<='z' or 'A'<=x<='Z':\n",
        "    print(f'{x} la ki tu alphabet')\n",
        "else: print(f'{x} khong phai la ki tu alphabet')"
      ],
      "metadata": {
        "id": "6etcI2JtIdu_"
      },
      "execution_count": null,
      "outputs": []
    },
    {
      "cell_type": "code",
      "source": [
        "c = input('nhap chu cai in hoa : ')\n",
        "if 'A'<c<='Z':\n",
        "    print(chr(ord(c)+31))\n",
        "elif c == 'A':\n",
        "    print('z')"
      ],
      "metadata": {
        "id": "-L01W0lGIfq2"
      },
      "execution_count": null,
      "outputs": []
    },
    {
      "cell_type": "code",
      "source": [
        "a,b,c = map(float,input('nhap a,b,c: ').split())\n",
        "if a+b>c and a+c>b and b+c>a:\n",
        "    p = (a+b+c)/2\n",
        "    print(f'dien tich tam giac la {(p*(p-a)*(p-b)*(p-c))**(1/2)}')\n",
        "else:\n",
        "    print('khong phai 3 canh cua tam giac')\n",
        ""
      ],
      "metadata": {
        "id": "t8rSqN6oIhd7"
      },
      "execution_count": null,
      "outputs": []
    },
    {
      "cell_type": "code",
      "source": [
        "n = input('nhap chuoi ki tu: ')\n",
        "print(n[4],n[8])"
      ],
      "metadata": {
        "id": "d1O6gDItIjW8"
      },
      "execution_count": null,
      "outputs": []
    },
    {
      "cell_type": "code",
      "source": [
        "name = input('nhap ho va ten chu ho: ')\n",
        "dientruoc = float(input('chi so thang truoc: '))\n",
        "diensau = float(input('chi so thang nay: '))\n",
        "dien = diensau-dientruoc\n",
        "tongtien = 0\n",
        "banggia = [\n",
        "    (50,1984),\n",
        "    (50,2050),\n",
        "    (100,2380),\n",
        "    (100,2998),\n",
        "    (100,3350),\n",
        "    (float('inf'),3460)\n",
        "]\n",
        "if dien>0:\n",
        "    for dinhmuc, gia in banggia:\n",
        "        tientinh = min(dinhmuc,dien)\n",
        "        tongtien += tientinh*gia\n",
        "        dien -= tientinh\n",
        "tongtien = tongtien*1.08\n",
        "print(f'''\n",
        "ho va ten: {name}\n",
        "tien phai tra la: {tongtien}\n",
        "\n",
        "''')"
      ],
      "metadata": {
        "id": "vco9wV-3IlS4"
      },
      "execution_count": null,
      "outputs": []
    }
  ]
}